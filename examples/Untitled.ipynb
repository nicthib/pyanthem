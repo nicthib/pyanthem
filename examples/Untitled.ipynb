{
 "cells": [
  {
   "cell_type": "markdown",
   "metadata": {},
   "source": [
    "# Example script: Using pyanthem in CLI mode\n",
    "\n",
    "### This notebook utilizes the CLI mode of pyanthem to create audiovisualizations in a hands-off manner. Here, it's expected that you have a general knowledge of how pyanthem works - input files, parameters, and expected outputs.\n",
    "\n",
    "### Also, you'll need a config .p file to run in CLI mode. Use the example .p files included in the \"datasets\" folder, or create and save your own using pyanthem in GUI mode.\n"
   ]
  },
  {
   "cell_type": "markdown",
   "metadata": {},
   "source": [
    "First, import pyanthem, create a CLI instance (using the display=False flag), and indicate where your data and config file(s) are located."
   ]
  },
  {
   "cell_type": "code",
   "execution_count": 1,
   "metadata": {},
   "outputs": [],
   "source": [
    "import pyanthem"
   ]
  },
  {
   "cell_type": "markdown",
   "metadata": {},
   "source": [
    "Next, load both the data and config file by chaining the methods:"
   ]
  },
  {
   "cell_type": "code",
   "execution_count": 2,
   "metadata": {},
   "outputs": [
    {
     "name": "stdout",
     "output_type": "stream",
     "text": [
      "\n",
      "\n",
      "\n"
     ]
    },
    {
     "data": {
      "text/plain": [
       "<pyanthem.GUI object .>"
      ]
     },
     "execution_count": 2,
     "metadata": {},
     "output_type": "execute_result"
    }
   ],
   "source": [
    "g.load_data(filein=data).load_config(filein=cfg)"
   ]
  },
  {
   "cell_type": "markdown",
   "metadata": {},
   "source": [
    "Now, you have two updated fields in the g variable: `g['data']` and `g['cfg']`. You're welcome to modify `g['data']` if you like, but let's focus on modifying the `g['cfg']` fields to change some parameters before we output a video.\n",
    "\n",
    "First, let's only output thee first 5% of the dataset:"
   ]
  },
  {
   "cell_type": "code",
   "execution_count": 3,
   "metadata": {},
   "outputs": [],
   "source": [
    "g.cfg['end_percent'] = 100\n",
    "g.cfg['threshold'] = .01"
   ]
  },
  {
   "cell_type": "code",
   "execution_count": 4,
   "metadata": {
    "scrolled": true
   },
   "outputs": [
    {
     "name": "stdout",
     "output_type": "stream",
     "text": [
      "testing new encode...\n",
      "Video file written to C:\\Users\\dnt21\\Desktop\\twitter_videops: 22.630355213485984\n",
      "Audio file written to C:\\Users\\dnt21\\Desktop\\twitter_video\n",
      "A/V file written to C:\\Users\\dnt21\\Desktop\\twitter_video\n"
     ]
    },
    {
     "data": {
      "text/plain": [
       "<pyanthem.GUI object .>"
      ]
     },
     "execution_count": 4,
     "metadata": {},
     "output_type": "execute_result"
    }
   ],
   "source": [
    "g.write_AV()"
   ]
  },
  {
   "cell_type": "code",
   "execution_count": 3,
   "metadata": {},
   "outputs": [
    {
     "name": "stdout",
     "output_type": "stream",
     "text": [
      "ffmpeg -y  -i C:\\Users\\dnt21\\Desktop\\twitter_video\\mouse.mp4 -i C:\\Users\\dnt21\\Desktop\\twitter_video\\twitter_n_AV.mp4 -filter_complex \"[0:v][1:v]hstack=inputs=2[v]\"  -map \"[v]\"  -c:a aac -map 1:a:0  -ac 2 -vsync 0 C:\\Users\\dnt21\\Desktop\\twitter_video\\stacked.mp4\n"
     ]
    }
   ],
   "source": [
    "rd=r'C:\\Users\\dnt21\\Desktop\\twitter_video'\n",
    "v1=rd+r'\\mouse.mp4'\n",
    "v2=rd+r'\\twitter_n_AV.mp4'\n",
    "\n",
    "pyanthem.stack_files([v1,v2],['v','av'],rd+r'\\stacked.mp4')\n"
   ]
  },
  {
   "cell_type": "code",
   "execution_count": 2,
   "metadata": {},
   "outputs": [
    {
     "name": "stdout",
     "output_type": "stream",
     "text": [
      "Welcome to pyanthem v1.1.6!\n",
      "Welcome to pyanthem v1.1.6!\n",
      "Welcome to pyanthem v1.1.6!\n",
      "Welcome to pyanthem v1.1.6!\n"
     ]
    }
   ],
   "source": [
    "data1=r'C:\\Users\\dnt21\\Desktop\\twitter_video\\twitter_n.mat'\n",
    "data2=r'C:\\Users\\dnt21\\Desktop\\twitter_video\\twitter_h.mat'\n",
    "\n",
    "cfg1 = r'C:\\Users\\dnt21\\Desktop\\twitter_video\\twitter_n_cfg.p'\n",
    "cfg2 = r'C:\\Users\\dnt21\\Desktop\\twitter_video\\twitter_hv_cfg.p'\n",
    "cfg3 = r'C:\\Users\\dnt21\\Desktop\\twitter_video\\twitter_ha1_cfg.p'\n",
    "cfg4 = r'C:\\Users\\dnt21\\Desktop\\twitter_video\\twitter_ha2_cfg.p'\n",
    "\n",
    "g_n=pyanthem.run(display=False)\n",
    "g_hv=pyanthem.run(display=False)\n",
    "g_ha1=pyanthem.run(display=False)\n",
    "g_ha2=pyanthem.run(display=False)"
   ]
  },
  {
   "cell_type": "code",
   "execution_count": 4,
   "metadata": {},
   "outputs": [
    {
     "name": "stdout",
     "output_type": "stream",
     "text": [
      "\n",
      "\n",
      "\n",
      "Video file written to C:\\Users\\dnt21\\Desktop\\twitter_videops: 31.149478895562122\n",
      "Audio file written to C:\\Users\\dnt21\\Desktop\\twitter_video\n",
      "A/V file written to C:\\Users\\dnt21\\Desktop\\twitter_video\n",
      "\n",
      "\n",
      "\n",
      "Video file written to C:\\Users\\dnt21\\Desktop\\twitter_videops: 32.719690076640846\n",
      "\n",
      "\n",
      "\n",
      "Audio file written to C:\\Users\\dnt21\\Desktop\\twitter_video\n",
      "\n",
      "\n",
      "\n",
      "Audio file written to C:\\Users\\dnt21\\Desktop\\twitter_video\n"
     ]
    },
    {
     "data": {
      "text/plain": [
       "<pyanthem.GUI object .>"
      ]
     },
     "execution_count": 4,
     "metadata": {},
     "output_type": "execute_result"
    }
   ],
   "source": [
    "g_n.load_data(filein=data1).load_config(filein=cfg1).write_AV()\n",
    "g_hv.load_data(filein=data2).load_config(filein=cfg2).write_video()\n",
    "g_ha1.load_data(filein=data2).load_config(filein=cfg3).write_audio()\n",
    "g_ha2.load_data(filein=data2).load_config(filein=cfg4).write_audio()\n"
   ]
  },
  {
   "cell_type": "code",
   "execution_count": 6,
   "metadata": {},
   "outputs": [
    {
     "name": "stdout",
     "output_type": "stream",
     "text": [
      "ffmpeg -y  -i C:\\Users\\dnt21\\Desktop\\twitter_video\\twitter_ha1.wav -i C:\\Users\\dnt21\\Desktop\\twitter_video\\twitter_ha2.wav -i C:\\Users\\dnt21\\Desktop\\twitter_video\\mouse.mp4 -i C:\\Users\\dnt21\\Desktop\\twitter_video\\twitter_n_AV.mp4 -i C:\\Users\\dnt21\\Desktop\\twitter_video\\twitter_hv.mp4 -filter_complex \"[2:v][3:v][4:v]hstack=inputs=3[v];[0:a][1:a][3:a]amerge=inputs=3[a]\"  -map \"[v]\"  -map \"[a]\"  -ac 2 -vsync 0 C:\\Users\\dnt21\\Desktop\\twitter_video\\stacked.mp4\n"
     ]
    }
   ],
   "source": [
    "rd=r'C:\\Users\\dnt21\\Desktop\\twitter_video'\n",
    "a1=rd+r'\\twitter_ha1.wav'\n",
    "a2=rd+r'\\twitter_ha2.wav'\n",
    "v1=rd+r'\\mouse.mp4'\n",
    "v2=rd+r'\\twitter_n_AV.mp4'\n",
    "v3=rd+r'\\twitter_hv.mp4'\n",
    "\n",
    "pyanthem.stack_files([a1,a2,v1,v2,v3],['a','a','v','av','v'],rd+r'\\stacked.mp4')\n"
   ]
  },
  {
   "cell_type": "code",
   "execution_count": null,
   "metadata": {},
   "outputs": [],
   "source": []
  }
 ],
 "metadata": {
  "kernelspec": {
   "display_name": "Python 3",
   "language": "python",
   "name": "python3"
  },
  "language_info": {
   "codemirror_mode": {
    "name": "ipython",
    "version": 3
   },
   "file_extension": ".py",
   "mimetype": "text/x-python",
   "name": "python",
   "nbconvert_exporter": "python",
   "pygments_lexer": "ipython3",
   "version": "3.7.8"
  }
 },
 "nbformat": 4,
 "nbformat_minor": 4
}
