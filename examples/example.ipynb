{
 "cells": [
  {
   "cell_type": "code",
   "execution_count": 1,
   "metadata": {},
   "outputs": [],
   "source": [
    "import pyanthem"
   ]
  },
  {
   "cell_type": "code",
   "execution_count": 2,
   "metadata": {},
   "outputs": [
    {
     "name": "stdout",
     "output_type": "stream",
     "text": [
      "Initializing soundfont library...\n",
      "Downloading 1alSnxnB0JFE6mEGbUZwiYGxt2UsoO3pM into /opt/miniconda3/envs/pyanthem/lib/python3.7/site-packages/pyanthem/anthem_soundfonts/font.sf2... \n",
      "974.2 MiB                                                                                                                                                                                                                                                                                                                                                                                                                                                                                                                        Done.\n"
     ]
    }
   ],
   "source": [
    "g=pyanthem.GUI(display=False)"
   ]
  },
  {
   "cell_type": "code",
   "execution_count": 3,
   "metadata": {},
   "outputs": [
    {
     "data": {
      "text/plain": [
       "<pyanthem.pyanthem.GUI object .>"
      ]
     },
     "execution_count": 3,
     "metadata": {},
     "output_type": "execute_result"
    }
   ],
   "source": [
    "g.load_data()"
   ]
  },
  {
   "cell_type": "code",
   "execution_count": 4,
   "metadata": {},
   "outputs": [
    {
     "data": {
      "text/plain": [
       "<pyanthem.pyanthem.GUI object .>"
      ]
     },
     "execution_count": 4,
     "metadata": {},
     "output_type": "execute_result"
    }
   ],
   "source": [
    "g.load_config()"
   ]
  },
  {
   "cell_type": "code",
   "execution_count": 18,
   "metadata": {},
   "outputs": [
    {
     "name": "stdout",
     "output_type": "stream",
     "text": [
      "\n",
      "Video file written to /Users/Nic/Downloads/anthem_datasets-master\n",
      "\n",
      "Audio file written to /Users/Nic/Downloads/anthem_datasets-master\n",
      "A/V file written to /Users/Nic/Downloads/anthem_datasets-master\n",
      "A/V only videos removed\n"
     ]
    },
    {
     "data": {
      "text/plain": [
       "<pyanthem.pyanthem.GUI object .>"
      ]
     },
     "execution_count": 18,
     "metadata": {},
     "output_type": "execute_result"
    }
   ],
   "source": [
    "g.write_AV().cleanup()"
   ]
  }
 ],
 "metadata": {
  "kernelspec": {
   "display_name": "pyanthem",
   "language": "python",
   "name": "pyanthem"
  },
  "language_info": {
   "codemirror_mode": {
    "name": "ipython",
    "version": 3
   },
   "file_extension": ".py",
   "mimetype": "text/x-python",
   "name": "python",
   "nbconvert_exporter": "python",
   "pygments_lexer": "ipython3",
   "version": "3.7.6"
  }
 },
 "nbformat": 4,
 "nbformat_minor": 4
}
