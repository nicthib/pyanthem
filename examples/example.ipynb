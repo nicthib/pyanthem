{
 "cells": [
  {
   "cell_type": "code",
   "execution_count": 2,
   "metadata": {},
   "outputs": [],
   "source": [
    "import pyanthem\n",
    "data1 = r'C:\\Users\\dnt21\\Desktop\\pyanthem\\datasets\\demo4_1.mat'\n",
    "data2 = r'C:\\Users\\dnt21\\Desktop\\pyanthem\\datasets\\demo4_2.mat'\n",
    "cfg1 = r'C:\\Users\\dnt21\\Desktop\\pyanthem\\datasets\\demo4_1_cfg.p'\n",
    "cfg2 = r'C:\\Users\\dnt21\\Desktop\\pyanthem\\datasets\\demo4_2_cfg.p'"
   ]
  },
  {
   "cell_type": "code",
   "execution_count": 3,
   "metadata": {},
   "outputs": [],
   "source": [
    "g1=pyanthem.GUI(display=False)\n",
    "g2=pyanthem.GUI(display=False)"
   ]
  },
  {
   "cell_type": "code",
   "execution_count": 4,
   "metadata": {},
   "outputs": [
    {
     "data": {
      "text/plain": [
       "<pyanthem.pyanthem.GUI object .>"
      ]
     },
     "execution_count": 4,
     "metadata": {},
     "output_type": "execute_result"
    }
   ],
   "source": [
    "g1.load_data(data1).load_config(cfg1)\n",
    "g2.load_data(data2).load_config(cfg2)"
   ]
  },
  {
   "cell_type": "code",
   "execution_count": 4,
   "metadata": {},
   "outputs": [],
   "source": [
    "v1 = r'C:\\Users\\dnt21\\Desktop\\anthem_datasets\\demo4_1_AV.mp4'\n",
    "v2 = r'C:\\Users\\dnt21\\Desktop\\anthem_datasets\\demo4_2_AV.mp4'\n",
    "out = r'C:\\Users\\dnt21\\Desktop\\anthem_datasets\\demo4_merged.mp4'\n",
    "pyanthem.stack_files([v1,v2],out)"
   ]
  },
  {
   "cell_type": "code",
   "execution_count": 9,
   "metadata": {},
   "outputs": [],
   "source": [
    "import h5py\n",
    "import numpy as np\n",
    "data_unk=h5py.File(r'C:\\Users\\dnt21\\Desktop\\pyanthem\\datasets\\example.h5', 'r')\n",
    "data = {}\n",
    "for k in data_unk.keys():\n",
    "    tmp_var = np.asarray(data_unk[k])\n",
    "    if k in ('__header__', '__version__', '__globals__'):\n",
    "        continue\n",
    "    elif len(tmp_var.flatten())==1:\n",
    "        data['fr']=float(tmp_var)\n",
    "    elif tmp_var.ndim==2:\n",
    "        data['H']=tmp_var\n",
    "    elif tmp_var.ndim==3:\n",
    "        data['W']=tmp_var"
   ]
  },
  {
   "cell_type": "code",
   "execution_count": 14,
   "metadata": {},
   "outputs": [
    {
     "data": {
      "text/plain": [
       "(128, 128, 18)"
      ]
     },
     "execution_count": 14,
     "metadata": {},
     "output_type": "execute_result"
    }
   ],
   "source": [
    "data['W'].T.shape"
   ]
  }
 ],
 "metadata": {
  "kernelspec": {
   "display_name": "pyanthem",
   "language": "python",
   "name": "pyanthem"
  },
  "language_info": {
   "codemirror_mode": {
    "name": "ipython",
    "version": 3
   },
   "file_extension": ".py",
   "mimetype": "text/x-python",
   "name": "python",
   "nbconvert_exporter": "python",
   "pygments_lexer": "ipython3",
   "version": "3.7.8"
  }
 },
 "nbformat": 4,
 "nbformat_minor": 4
}
