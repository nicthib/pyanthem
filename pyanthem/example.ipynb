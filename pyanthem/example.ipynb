{
 "cells": [
  {
   "cell_type": "code",
   "execution_count": 1,
   "metadata": {},
   "outputs": [
    {
     "name": "stdout",
     "output_type": "stream",
     "text": [
      "New velocity\n"
     ]
    }
   ],
   "source": [
    "import pyanthem\n",
    "data1 = r'C:\\Users\\dnt21\\Desktop\\anthem_datasets\\demo4_1.mat'\n",
    "data2 = r'C:\\Users\\dnt21\\Desktop\\anthem_datasets\\demo4_2.mat'\n",
    "cfg1 = r'C:\\Users\\dnt21\\Desktop\\anthem_datasets\\demo4_1_cfg.p'\n",
    "cfg2 = r'C:\\Users\\dnt21\\Desktop\\anthem_datasets\\demo4_2_cfg.p'"
   ]
  },
  {
   "cell_type": "code",
   "execution_count": 2,
   "metadata": {},
   "outputs": [],
   "source": [
    "g1=pyanthem.GUI(display=False)\n",
    "g2=pyanthem.GUI(display=False)"
   ]
  },
  {
   "cell_type": "code",
   "execution_count": 3,
   "metadata": {},
   "outputs": [
    {
     "name": "stdout",
     "output_type": "stream",
     "text": [
      "Video file written to C:\\Users\\dnt21\\Desktop\\anthem_datasets\n",
      "Audio file written to C:\\Users\\dnt21\\Desktop\\anthem_datasets\n",
      "hey\n",
      "A/V file written to C:\\Users\\dnt21\\Desktop\\anthem_datasets\n",
      "A/V only videos removed\n",
      "Video file written to C:\\Users\\dnt21\\Desktop\\anthem_datasets\n",
      "Audio file written to C:\\Users\\dnt21\\Desktop\\anthem_datasets\n",
      "hey\n",
      "A/V file written to C:\\Users\\dnt21\\Desktop\\anthem_datasets\n",
      "A/V only videos removed\n"
     ]
    },
    {
     "data": {
      "text/plain": [
       "<pyanthem.GUI object .>"
      ]
     },
     "execution_count": 3,
     "metadata": {},
     "output_type": "execute_result"
    }
   ],
   "source": [
    "g1.load_data(data1).load_config(cfg1).write_AV().cleanup()\n",
    "g2.load_data(data2).load_config(cfg2).write_AV().cleanup()"
   ]
  },
  {
   "cell_type": "code",
   "execution_count": 4,
   "metadata": {},
   "outputs": [],
   "source": [
    "v1 = r'C:\\Users\\dnt21\\Desktop\\anthem_datasets\\demo4_1_AV.mp4'\n",
    "v2 = r'C:\\Users\\dnt21\\Desktop\\anthem_datasets\\demo4_2_AV.mp4'\n",
    "out = r'C:\\Users\\dnt21\\Desktop\\anthem_datasets\\demo4_merged.mp4'\n",
    "pyanthem.stack_videos([v1,v2],out)"
   ]
  },
  {
   "cell_type": "code",
   "execution_count": null,
   "metadata": {},
   "outputs": [],
   "source": []
  }
 ],
 "metadata": {
  "kernelspec": {
   "display_name": "pyanthem",
   "language": "python",
   "name": "pyanthem"
  },
  "language_info": {
   "codemirror_mode": {
    "name": "ipython",
    "version": 3
   },
   "file_extension": ".py",
   "mimetype": "text/x-python",
   "name": "python",
   "nbconvert_exporter": "python",
   "pygments_lexer": "ipython3",
   "version": "3.7.6"
  }
 },
 "nbformat": 4,
 "nbformat_minor": 4
}
