{
 "cells": [
  {
   "cell_type": "code",
   "execution_count": 3,
   "metadata": {},
   "outputs": [],
   "source": [
    "import pyanthem\n"
   ]
  },
  {
   "cell_type": "code",
   "execution_count": 4,
   "metadata": {
    "scrolled": false
   },
   "outputs": [
    {
     "name": "stdout",
     "output_type": "stream",
     "text": [
      "Initializing soundfont library...\n",
      "Downloading 1alSnxnB0JFE6mEGbUZwiYGxt2UsoO3pM into C:\\Users\\dnt21\\Desktop\\pyanthem\\pyanthem\\anthem_soundfonts\\font.sf2... \n",
      "970.7 MiB                                                                                                                                                                                                                                                                                                                                                                                                                                                                                                                          Done.\n",
      "Welcome to pyanthem v1.1.0!\n"
     ]
    }
   ],
   "source": [
    "g=pyanthem.run(display=False)\n"
   ]
  },
  {
   "cell_type": "code",
   "execution_count": 4,
   "metadata": {
    "scrolled": false
   },
   "outputs": [
    {
     "name": "stdout",
     "output_type": "stream",
     "text": [
      "Video file written to C:\\Users\\dnt21\\Desktop\\outputs\n",
      "Audio file written to C:\\Users\\dnt21\\Desktop\\outputs\n",
      "A/V file written to C:\\Users\\dnt21\\Desktop\\outputs\n",
      "A/V only videos removed\n"
     ]
    },
    {
     "data": {
      "text/plain": [
       "<pyanthem.GUI object .>"
      ]
     },
     "execution_count": 4,
     "metadata": {},
     "output_type": "execute_result"
    }
   ],
   "source": [
    "cfg = example_cfg[0]\n",
    "data_file = example_files_decomp[0]\n",
    "g.load_config(filein=cfg)\n",
    "g.load_data(filein=data_file)\n",
    "g.cfg['save_path']=r'C:\\Users\\dnt21\\Desktop\\outputs'\n",
    "g.write_AV().cleanup()\n"
   ]
  },
  {
   "cell_type": "code",
   "execution_count": 5,
   "metadata": {},
   "outputs": [
    {
     "name": "stdout",
     "output_type": "stream",
     "text": [
      "Performing k-means...done.\n",
      "Performing NNLS...done.\n",
      "Decomposed data file saved to /Users/Nic/Desktop/anthem_datasets/demo1_raw_decomp.mat\n"
     ]
    },
    {
     "data": {
      "text/plain": [
       "<pyanthem.GUI object .>"
      ]
     },
     "execution_count": 5,
     "metadata": {},
     "output_type": "execute_result"
    }
   ],
   "source": [
    "raw_file = r'/Users/Nic/Desktop/anthem_datasets/demo1_raw.mat'\n",
    "g = pyanthem.GUI(display=False)\n",
    "g.process_raw(file_in=raw_file,n_clusters=20,frame_rate=20,save=True)\n"
   ]
  },
  {
   "cell_type": "code",
   "execution_count": 2,
   "metadata": {},
   "outputs": [
    {
     "name": "stdout",
     "output_type": "stream",
     "text": [
      "Help on function cleanup in module pyanthem:\n",
      "\n",
      "cleanup(self)\n",
      "    Tries to remove any files that are video or audio only.\n",
      "\n"
     ]
    }
   ],
   "source": [
    "help(pyanthem.GUI.cleanup)"
   ]
  },
  {
   "cell_type": "code",
   "execution_count": 1,
   "metadata": {},
   "outputs": [],
   "source": [
    "import subprocess as sp\n",
    "import numpy as np\n",
    "file = r'C:\\Users\\dnt21\\Downloads\\stars.mp4'\n",
    "command = [ 'ffmpeg',\n",
    "            '-i', file,\n",
    "            '-f', 'image2pipe',\n",
    "            '-pix_fmt', 'rgb24',\n",
    "            '-vcodec', 'rawvideo', '-']\n",
    "pipe = sp.Popen(command, stdout = sp.PIPE, bufsize=10**8)"
   ]
  },
  {
   "cell_type": "code",
   "execution_count": 2,
   "metadata": {},
   "outputs": [
    {
     "name": "stderr",
     "output_type": "stream",
     "text": [
      "C:\\Users\\dnt21\\miniconda3\\envs\\pyanthem\\lib\\site-packages\\ipykernel_launcher.py:5: DeprecationWarning: The binary mode of fromstring is deprecated, as it behaves surprisingly on unicode inputs. Use frombuffer instead\n",
      "  \"\"\"\n"
     ]
    }
   ],
   "source": [
    "vid = []\n",
    "while True:\n",
    "    try:\n",
    "        raw_image = pipe.stdout.read(360*640*3)\n",
    "        image =  np.fromstring(raw_image, dtype='uint8')\n",
    "        vid.append(np.mean(image.reshape((360,640,3)),axis=2))\n",
    "        pipe.stdout.flush()\n",
    "    except:\n",
    "        break\n",
    "vid = np.moveaxis(np.asarray(vid),0,-1)"
   ]
  },
  {
   "cell_type": "code",
   "execution_count": null,
   "metadata": {},
   "outputs": [],
   "source": []
  }
 ],
 "metadata": {
  "kernelspec": {
   "display_name": "Python 3",
   "language": "python",
   "name": "python3"
  },
  "language_info": {
   "codemirror_mode": {
    "name": "ipython",
    "version": 3
   },
   "file_extension": ".py",
   "mimetype": "text/x-python",
   "name": "python",
   "nbconvert_exporter": "python",
   "pygments_lexer": "ipython3",
   "version": "3.7.6"
  }
 },
 "nbformat": 4,
 "nbformat_minor": 4
}
