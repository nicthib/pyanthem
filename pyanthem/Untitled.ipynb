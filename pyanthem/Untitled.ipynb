{
 "cells": [
  {
   "cell_type": "code",
   "execution_count": 1,
   "metadata": {},
   "outputs": [],
   "source": [
    "import pyanthem\n",
    "filein = r'C:\\Users\\dnt21\\Desktop\\twitter.mat'"
   ]
  },
  {
   "cell_type": "code",
   "execution_count": 2,
   "metadata": {},
   "outputs": [
    {
     "name": "stdout",
     "output_type": "stream",
     "text": [
      "Welcome to pyanthem v1.1.5!\n"
     ]
    }
   ],
   "source": [
    "g=pyanthem.run(display=False)"
   ]
  },
  {
   "cell_type": "code",
   "execution_count": 3,
   "metadata": {},
   "outputs": [
    {
     "name": "stdout",
     "output_type": "stream",
     "text": [
      "\n",
      "\n",
      "\n"
     ]
    },
    {
     "data": {
      "text/plain": [
       "<pyanthem.GUI object .>"
      ]
     },
     "execution_count": 3,
     "metadata": {},
     "output_type": "execute_result"
    }
   ],
   "source": [
    "g.load_data(filein)"
   ]
  },
  {
   "cell_type": "code",
   "execution_count": 4,
   "metadata": {},
   "outputs": [
    {
     "data": {
      "text/plain": [
       "{'H': array([[ 0.1381186 ,  0.1381186 ,  0.1381186 , ...,  0.00978228,\n",
       "          0.01168113,  0.01035177],\n",
       "        [ 0.        ,  0.        ,  0.        , ...,  0.00802206,\n",
       "          0.01351121,  0.01396052],\n",
       "        [ 0.        ,  0.        ,  0.        , ...,  0.00063693,\n",
       "          0.00236958, -0.00302957],\n",
       "        ...,\n",
       "        [ 0.        ,  0.        ,  0.        , ...,  0.0247755 ,\n",
       "          0.03445954,  0.03290997],\n",
       "        [ 0.        ,  0.        ,  0.        , ...,  0.0187464 ,\n",
       "          0.02355814,  0.01978857],\n",
       "        [ 0.        ,  0.        ,  0.        , ...,  0.02561192,\n",
       "          0.03197624,  0.02782407]]),\n",
       " 'W': array([[0., 0., 0., ..., 0., 0., 0.],\n",
       "        [0., 0., 0., ..., 0., 0., 0.],\n",
       "        [0., 0., 0., ..., 0., 0., 0.],\n",
       "        ...,\n",
       "        [0., 0., 0., ..., 0., 0., 0.],\n",
       "        [0., 0., 0., ..., 0., 0., 0.],\n",
       "        [0., 0., 0., ..., 0., 0., 0.]]),\n",
       " 'fr': 19.96676666666667,\n",
       " 'W_shape': (256, 256, 24)}"
      ]
     },
     "execution_count": 4,
     "metadata": {},
     "output_type": "execute_result"
    }
   ],
   "source": [
    "g.data"
   ]
  },
  {
   "cell_type": "code",
   "execution_count": null,
   "metadata": {},
   "outputs": [],
   "source": []
  }
 ],
 "metadata": {
  "kernelspec": {
   "display_name": "pyanthem",
   "language": "python",
   "name": "pyanthem"
  },
  "language_info": {
   "codemirror_mode": {
    "name": "ipython",
    "version": 3
   },
   "file_extension": ".py",
   "mimetype": "text/x-python",
   "name": "python",
   "nbconvert_exporter": "python",
   "pygments_lexer": "ipython3",
   "version": "3.7.8"
  }
 },
 "nbformat": 4,
 "nbformat_minor": 4
}
